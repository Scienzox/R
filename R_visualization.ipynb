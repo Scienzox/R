{
 "cells": [
  {
   "cell_type": "code",
   "execution_count": null,
   "metadata": {
    "ExecuteTime": {
     "end_time": "2020-05-04T09:01:29.127292Z",
     "start_time": "2020-05-04T09:01:27.593Z"
    }
   },
   "outputs": [],
   "source": [
    "library(dplyr)"
   ]
  },
  {
   "cell_type": "code",
   "execution_count": null,
   "metadata": {
    "ExecuteTime": {
     "end_time": "2020-05-04T09:01:31.506337Z",
     "start_time": "2020-05-04T09:01:31.252Z"
    }
   },
   "outputs": [],
   "source": [
    "df = read.csv(\"Data/data.csv\")"
   ]
  },
  {
   "cell_type": "code",
   "execution_count": null,
   "metadata": {
    "ExecuteTime": {
     "end_time": "2020-04-30T13:25:09.074401Z",
     "start_time": "2020-04-30T13:25:08.870Z"
    }
   },
   "outputs": [],
   "source": [
    "head(df)"
   ]
  },
  {
   "cell_type": "code",
   "execution_count": null,
   "metadata": {
    "ExecuteTime": {
     "end_time": "2020-04-27T13:19:10.971627Z",
     "start_time": "2020-04-27T13:19:10.897Z"
    }
   },
   "outputs": [],
   "source": [
    "summary(df)"
   ]
  },
  {
   "cell_type": "markdown",
   "metadata": {
    "ExecuteTime": {
     "end_time": "2020-04-27T13:15:26.020903Z",
     "start_time": "2020-04-27T13:15:25.922Z"
    },
    "heading_collapsed": true
   },
   "source": [
    "# ggplot"
   ]
  },
  {
   "cell_type": "code",
   "execution_count": null,
   "metadata": {
    "ExecuteTime": {
     "end_time": "2020-04-28T11:50:12.520814Z",
     "start_time": "2020-04-28T11:50:10.796Z"
    },
    "hidden": true
   },
   "outputs": [],
   "source": [
    "library(ggplot2)\n",
    "library(dplyr)"
   ]
  },
  {
   "cell_type": "code",
   "execution_count": null,
   "metadata": {
    "ExecuteTime": {
     "end_time": "2020-04-27T13:24:40.952244Z",
     "start_time": "2020-04-27T13:24:40.033Z"
    },
    "hidden": true
   },
   "outputs": [],
   "source": [
    "gg_plot <- df %>%\n",
    "    ggplot(aes(x=Attack, y=HP, color=factor(Legendary))) +\n",
    "    geom_point()\n",
    "gg_plot"
   ]
  },
  {
   "cell_type": "markdown",
   "metadata": {},
   "source": [
    "# Plotly"
   ]
  },
  {
   "cell_type": "code",
   "execution_count": null,
   "metadata": {
    "ExecuteTime": {
     "end_time": "2020-05-04T09:01:35.177215Z",
     "start_time": "2020-05-04T09:01:33.948Z"
    }
   },
   "outputs": [],
   "source": [
    "library(plotly)"
   ]
  },
  {
   "cell_type": "markdown",
   "metadata": {},
   "source": [
    "## Basic plots"
   ]
  },
  {
   "cell_type": "code",
   "execution_count": null,
   "metadata": {
    "ExecuteTime": {
     "end_time": "2020-04-27T13:25:35.580390Z",
     "start_time": "2020-04-27T13:25:33.364Z"
    }
   },
   "outputs": [],
   "source": [
    "ggplotly(gg_plot) # doesn't work for all types of ggplot objects"
   ]
  },
  {
   "cell_type": "code",
   "execution_count": null,
   "metadata": {
    "ExecuteTime": {
     "end_time": "2020-04-30T13:44:13.305885Z",
     "start_time": "2020-04-30T13:44:11.107Z"
    }
   },
   "outputs": [],
   "source": [
    "df %>% \n",
    "  plot_ly(x = ~Attack, y = ~Sp..Atk ,\n",
    "          color=~HP) %>%\n",
    "add_markers()"
   ]
  },
  {
   "cell_type": "code",
   "execution_count": null,
   "metadata": {
    "ExecuteTime": {
     "end_time": "2020-04-27T13:31:55.802803Z",
     "start_time": "2020-04-27T13:31:55.590Z"
    }
   },
   "outputs": [],
   "source": [
    "library(forcats)"
   ]
  },
  {
   "cell_type": "code",
   "execution_count": null,
   "metadata": {
    "ExecuteTime": {
     "end_time": "2020-04-30T13:31:59.440605Z",
     "start_time": "2020-04-30T13:31:57.188Z"
    }
   },
   "outputs": [],
   "source": [
    "df %>% count(Generation) %>%\n",
    "mutate(gen = fct_reorder(factor(Generation), n, .desc=TRUE)) %>%\n",
    "plot_ly(x = ~gen, y= ~n,\n",
    "       hoverinfo = \"y\") %>% # ~defines the aesthetics\n",
    "add_bars() # similar to the ggplot geom_"
   ]
  },
  {
   "cell_type": "code",
   "execution_count": null,
   "metadata": {
    "ExecuteTime": {
     "end_time": "2020-04-28T12:05:09.017513Z",
     "start_time": "2020-04-28T12:05:07.142Z"
    }
   },
   "outputs": [],
   "source": [
    "df %>%\n",
    "plot_ly(x = ~HP) %>%\n",
    "  add_histogram(marker = list(color = \"rgb(170, 30, 10)\"))"
   ]
  },
  {
   "cell_type": "code",
   "execution_count": null,
   "metadata": {
    "ExecuteTime": {
     "end_time": "2020-04-28T12:04:27.347829Z",
     "start_time": "2020-04-28T12:04:27.227Z"
    }
   },
   "outputs": [],
   "source": [
    "df %>%\n",
    "plot_ly(x = ~HP) %>%\n",
    "add_histogram(xbins = list(start = 0, end = 250, size = 10), color=I(\"navy\"), opacity=0.5)"
   ]
  },
  {
   "cell_type": "code",
   "execution_count": null,
   "metadata": {
    "ExecuteTime": {
     "end_time": "2020-04-28T11:52:19.959579Z",
     "start_time": "2020-04-28T11:52:17.283Z"
    }
   },
   "outputs": [],
   "source": [
    "df %>%\n",
    "count(Legendary, Generation) %>%\n",
    "group_by(Legendary) %>%\n",
    "mutate(prop = n/sum(n)) %>%\n",
    "plot_ly(x = ~factor(Legendary), y = ~prop, color = ~factor(Generation)) %>%\n",
    "add_bars() %>%\n",
    "layout(barmode = \"stack\")"
   ]
  },
  {
   "cell_type": "code",
   "execution_count": null,
   "metadata": {
    "ExecuteTime": {
     "end_time": "2020-04-28T11:59:50.748090Z",
     "start_time": "2020-04-28T11:59:48.934Z"
    }
   },
   "outputs": [],
   "source": [
    "df %>%\n",
    "plot_ly(x = ~factor(Generation), y = ~Attack) %>%\n",
    "add_boxplot(color=I(\"green\"))"
   ]
  },
  {
   "cell_type": "markdown",
   "metadata": {},
   "source": [
    "## Customization"
   ]
  },
  {
   "cell_type": "code",
   "execution_count": null,
   "metadata": {
    "ExecuteTime": {
     "end_time": "2020-04-30T13:47:33.459347Z",
     "start_time": "2020-04-30T13:47:30.883Z"
    }
   },
   "outputs": [],
   "source": [
    "df %>% \n",
    "  plot_ly(x = ~Attack, y = ~Sp..Atk ,\n",
    "          color=~HP,\n",
    "         hoverinfo = 'text',\n",
    "         text = ~paste0(\"Pokemon: \", Name, \"<br>\", \"Generation: \", Generation)) %>%\n",
    "\n",
    "  add_markers(marker = list(opacity = 0.7, symbol=\"cicle-open\", size=10), colors=c(\"blue\", \"green\", \"yellow\")) %>%\n",
    "\n",
    "  layout(xaxis= list(title= \"Attaque\", type=\"log\"),\n",
    "         yaxis= list(title = \"Attaque spéciale\", type=\"log\", zeroline=T, showgrid=F),\n",
    "        title = \"Mon titre\",\n",
    "         plot_bgcolor=rgb(0.95,0,0.85)\n",
    "         \n",
    "        )"
   ]
  },
  {
   "cell_type": "markdown",
   "metadata": {},
   "source": [
    "## Advanced plots"
   ]
  },
  {
   "cell_type": "code",
   "execution_count": null,
   "metadata": {
    "ExecuteTime": {
     "end_time": "2020-05-04T09:20:24.538687Z",
     "start_time": "2020-05-04T09:20:22.361Z"
    }
   },
   "outputs": [],
   "source": [
    "line <- loess(Attack ~ Speed, data=df, span=1.5)\n",
    "line2 <- lm(Attack ~ poly(Speed,2), data=df)\n",
    "\n",
    "df %>%\n",
    "    plot_ly(x=~Speed, y=~Attack) %>%\n",
    "    add_markers() %>%\n",
    "    layout(showlegend=F) %>%\n",
    "    add_lines(y = ~fitted(line), name=\"loess\") %>%\n",
    "    add_lines(y = ~fitted(line2), name=\"poly\")\n"
   ]
  },
  {
   "cell_type": "code",
   "execution_count": null,
   "metadata": {
    "ExecuteTime": {
     "end_time": "2020-05-04T09:29:30.316259Z",
     "start_time": "2020-05-04T09:29:28.647Z"
    }
   },
   "outputs": [],
   "source": [
    "d1 <- filter(df, Legendary==\"False\")\n",
    "d2 <- filter(df, Legendary == \"True\")\n",
    "density1 <- density(d1$Attack, na.rm = T)\n",
    "density2 <- density(d2$Attack, na.rm = T)\n",
    "\n",
    "plot_ly(opacity=0.5) %>%\n",
    "add_lines(~density1$x, ~density1$y, name=\"normal\", fill = 'tozeroy') %>%\n",
    "add_lines(~density2$x, ~density2$y, name=\"legendary\", fill = 'tozeroy') %>%\n",
    "layout(xaxis = list(title = \"attack\"),\n",
    "      yaxis = list(title = \"density\"))"
   ]
  },
  {
   "cell_type": "code",
   "execution_count": null,
   "metadata": {
    "ExecuteTime": {
     "end_time": "2020-05-04T09:37:59.694210Z",
     "start_time": "2020-05-04T09:37:58.020Z"
    }
   },
   "outputs": [],
   "source": [
    "# manual way \n",
    "p1 <- df %>%\n",
    "filter(Legendary == \"False\") %>%\n",
    "plot_ly(x=~Speed, y=~Attack) %>%\n",
    "add_markers(name = ~Legendary) %>%\n",
    "layout(title=\"non legendary\")\n",
    "\n",
    "p2 <- df %>%\n",
    "filter(Legendary == \"True\") %>%\n",
    "plot_ly(x=~Speed, y=~Attack) %>%\n",
    "add_markers(name = ~Legendary) %>%\n",
    "layout(title=\"legendary\")\n",
    "\n",
    "subplot(p1,p2, nrows = 1,\n",
    "       shareX=T,\n",
    "       shareY=T)"
   ]
  },
  {
   "cell_type": "code",
   "execution_count": null,
   "metadata": {
    "ExecuteTime": {
     "end_time": "2020-05-04T09:48:54.208938Z",
     "start_time": "2020-05-04T09:48:51.768Z"
    }
   },
   "outputs": [],
   "source": [
    "df %>%\n",
    "group_by(Generation) %>%\n",
    "do(plot = plot_ly(data=., x=~Attack, y = ~Speed) %>%\n",
    "  add_markers(name=~Generation)) %>%\n",
    "subplot(nrows=2, shareX=T, shareY=T)"
   ]
  },
  {
   "cell_type": "code",
   "execution_count": null,
   "metadata": {
    "ExecuteTime": {
     "end_time": "2020-05-04T13:57:14.011044Z",
     "start_time": "2020-05-04T13:57:12.133Z"
    }
   },
   "outputs": [],
   "source": [
    "# Create a SPLOM of NA_Sales, EU_Sales, and JP_Sales\n",
    "df %>%\n",
    "  plot_ly(color = ~Legendary) %>%\n",
    "  add_trace(\n",
    "    type = \"splom\",\n",
    "    dimensions = list(\n",
    "      list(label = \"Attack\", values = ~Attack),\n",
    "      list(label = \"Defense\", values = ~Defense),\n",
    "      list(label = \"Speed\", values = ~Speed)\n",
    "    )\n",
    "  ) %>%\n",
    "  style(diagonal = list(visible = FALSE),\n",
    "       showupperhalf = FALSE) "
   ]
  },
  {
   "cell_type": "code",
   "execution_count": null,
   "metadata": {
    "ExecuteTime": {
     "end_time": "2020-05-04T14:34:13.703233Z",
     "start_time": "2020-05-04T14:34:11.853Z"
    }
   },
   "outputs": [],
   "source": [
    "df %>%\n",
    "plot_ly(x= ~Attack, y=~Speed) %>%\n",
    "add_histogram2d(nbinsx=80, nbinsy=50)"
   ]
  }
 ],
 "metadata": {
  "kernelspec": {
   "display_name": "R",
   "language": "R",
   "name": "r"
  },
  "language_info": {
   "codemirror_mode": "r",
   "file_extension": ".r",
   "mimetype": "text/x-r-source",
   "name": "R",
   "pygments_lexer": "r",
   "version": "3.5.1"
  },
  "toc": {
   "base_numbering": 1,
   "nav_menu": {},
   "number_sections": true,
   "sideBar": true,
   "skip_h1_title": false,
   "title_cell": "Table of Contents",
   "title_sidebar": "Contents",
   "toc_cell": false,
   "toc_position": {},
   "toc_section_display": true,
   "toc_window_display": true
  }
 },
 "nbformat": 4,
 "nbformat_minor": 4
}
